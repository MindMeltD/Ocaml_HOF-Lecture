{
  "nbformat": 4,
  "nbformat_minor": 0,
  "metadata": {
    "colab": {
      "provenance": [],
      "include_colab_link": true
    },
    "kernelspec": {
      "name": "python3",
      "display_name": "Python 3"
    },
    "language_info": {
      "name": "python"
    }
  },
  "cells": [
    {
      "cell_type": "markdown",
      "metadata": {
        "id": "view-in-github",
        "colab_type": "text"
      },
      "source": [
        "<a href=\"https://colab.research.google.com/github/MindMeltD/Ocaml_HOF-Lecture/blob/main/CICIDS.ipynb\" target=\"_parent\"><img src=\"https://colab.research.google.com/assets/colab-badge.svg\" alt=\"Open In Colab\"/></a>"
      ]
    },
    {
      "cell_type": "markdown",
      "source": [
        "Start with setting up our drive to download the dataset and clean it up before preprocessing"
      ],
      "metadata": {
        "id": "PRDEg-uyG-_p"
      }
    },
    {
      "cell_type": "code",
      "source": [
        "from google.colab import drive\n",
        "drive.mount('/content/drive')\n",
        "\n",
        "#We will save the downloaded dataset to Google Drive"
      ],
      "metadata": {
        "id": "TjPzWQ_MTtrI",
        "colab": {
          "base_uri": "https://localhost:8080/"
        },
        "outputId": "89cafc69-5e80-4501-f1e9-7f236b94773d"
      },
      "execution_count": null,
      "outputs": [
        {
          "output_type": "stream",
          "name": "stdout",
          "text": [
            "Mounted at /content/drive\n"
          ]
        }
      ]
    },
    {
      "cell_type": "code",
      "source": [
        "#The description of CICIDS2017 dataset is accessible at https://www.unb.ca/cic/datasets/ids-2017.html\n",
        "#we will download the MachineLearningCSV.zip version of this dataset\n",
        "\n",
        "!wget -nc -O MachineLearningCVE.zip http://205.174.165.80/CICDataset/CIC-IDS-2017/Dataset/MachineLearningCSV.zip"
      ],
      "metadata": {
        "colab": {
          "base_uri": "https://localhost:8080/"
        },
        "id": "fYJJf-RbUA5T",
        "outputId": "675ac9ba-e46f-4005-dde1-a35a8ba2e7c4"
      },
      "execution_count": null,
      "outputs": [
        {
          "output_type": "stream",
          "name": "stdout",
          "text": [
            "--2023-10-17 01:51:48--  http://205.174.165.80/CICDataset/CIC-IDS-2017/Dataset/MachineLearningCSV.zip\n",
            "Connecting to 205.174.165.80:80... connected.\n",
            "HTTP request sent, awaiting response... 200 OK\n",
            "Length: 235102953 (224M) [application/zip]\n",
            "Saving to: ‘MachineLearningCVE.zip’\n",
            "\n",
            "MachineLearningCVE. 100%[===================>] 224.21M  1.27MB/s    in 2m 35s  \n",
            "\n",
            "2023-10-17 01:54:23 (1.45 MB/s) - ‘MachineLearningCVE.zip’ saved [235102953/235102953]\n",
            "\n"
          ]
        }
      ]
    },
    {
      "cell_type": "code",
      "source": [
        "#Save the zip and extracted files to Google Drive.\n",
        "\n",
        "!mkdir -p \"/content/drive/My Drive/CICIDS2017/\"\n",
        "\n",
        "!cp MachineLearningCVE.zip \"/content/drive/My Drive/CICIDS2017/\"\n",
        "\n",
        "#Now the dataset is saved to your Google Drive at CICIDS2017 folder."
      ],
      "metadata": {
        "id": "NPziuXb-VTBM"
      },
      "execution_count": null,
      "outputs": []
    },
    {
      "cell_type": "code",
      "source": [
        "#Unzip the MachineLearningCVE.zip\n",
        "!unzip -n \"/content/drive/My Drive/CICIDS2017/MachineLearningCVE.zip\""
      ],
      "metadata": {
        "colab": {
          "base_uri": "https://localhost:8080/"
        },
        "id": "kntPYZwOWTb0",
        "outputId": "89b9c828-8ce4-4dae-bc6d-cfee5331e27e"
      },
      "execution_count": null,
      "outputs": [
        {
          "output_type": "stream",
          "name": "stdout",
          "text": [
            "Archive:  /content/drive/My Drive/CICIDS2017/MachineLearningCVE.zip\n",
            "   creating: MachineLearningCVE/\n",
            "  inflating: MachineLearningCVE/Wednesday-workingHours.pcap_ISCX.csv  \n",
            "  inflating: MachineLearningCVE/Tuesday-WorkingHours.pcap_ISCX.csv  \n",
            "  inflating: MachineLearningCVE/Thursday-WorkingHours-Morning-WebAttacks.pcap_ISCX.csv  \n",
            "  inflating: MachineLearningCVE/Thursday-WorkingHours-Afternoon-Infilteration.pcap_ISCX.csv  \n",
            "  inflating: MachineLearningCVE/Monday-WorkingHours.pcap_ISCX.csv  \n",
            "  inflating: MachineLearningCVE/Friday-WorkingHours-Morning.pcap_ISCX.csv  \n",
            "  inflating: MachineLearningCVE/Friday-WorkingHours-Afternoon-PortScan.pcap_ISCX.csv  \n",
            "  inflating: MachineLearningCVE/Friday-WorkingHours-Afternoon-DDos.pcap_ISCX.csv  \n"
          ]
        }
      ]
    },
    {
      "cell_type": "markdown",
      "source": [
        "\n",
        "\n",
        "There are eight files extracted from this zip file.\n",
        "\n",
        "    Monday-WorkingHours.pcap_ISCX.csv\n",
        "    Tuesday-WorkingHours.pcap_ISCX.csv\n",
        "    Wednesday-workingHours.pcap_ISCX.csv\n",
        "    Thursday-WorkingHours-Morning-WebAttacks.pcap_ISCX.csv\n",
        "    Thursday-WorkingHours-Afternoon-Infilteration.pcap_ISCX.csv\n",
        "    Friday-WorkingHours-Morning.pcap_ISCX.csv\n",
        "    Friday-WorkingHours-Afternoon-PortScan.pcap_ISCX.csv\n",
        "    Friday-WorkingHours-Afternoon-DDos.pcap_ISCX.csv"
      ],
      "metadata": {
        "id": "Yw0Y5nZ6FYjT"
      }
    },
    {
      "cell_type": "markdown",
      "source": [
        "The file Thursday-WorkingHours-Morning-WebAttacks.pcap_ISCX.csv contains unrecognized characters.\n",
        "\n",
        "Change this unrecognized character to -"
      ],
      "metadata": {
        "id": "TnQ-RfwpFsFm"
      }
    },
    {
      "cell_type": "code",
      "source": [
        "import os\n",
        "import pandas as pd\n",
        "\n",
        "file_name = os.path.join(\"MachineLearningCVE\", \"Thursday-WorkingHours-Morning-WebAttacks.pcap_ISCX.csv\")\n",
        "\n",
        "# Read dataset\n",
        "df = pd.read_csv(file_name, skipinitialspace=True, error_bad_lines=False)"
      ],
      "metadata": {
        "colab": {
          "base_uri": "https://localhost:8080/"
        },
        "id": "v7vTUQIBW6_4",
        "outputId": "34333177-66fc-43d2-88f6-10e03fc16a55"
      },
      "execution_count": null,
      "outputs": [
        {
          "output_type": "stream",
          "name": "stderr",
          "text": [
            "<ipython-input-5-4c00c841666a>:7: FutureWarning: The error_bad_lines argument has been deprecated and will be removed in a future version. Use on_bad_lines in the future.\n",
            "\n",
            "\n",
            "  df = pd.read_csv(file_name, skipinitialspace=True, error_bad_lines=False)\n"
          ]
        }
      ]
    },
    {
      "cell_type": "code",
      "source": [
        "def _renaming_class_label(df: pd.DataFrame):\n",
        "    labels = {\"Web Attack � Brute Force\": \"Web Attack-Brute Force\",\n",
        "              \"Web Attack � XSS\": \"Web Attack-XSS\",\n",
        "              \"Web Attack � Sql Injection\": \"Web Attack-Sql Injection\"}\n",
        "\n",
        "    for old_label, new_label in labels.items():\n",
        "        df.Label.replace(old_label, new_label, inplace=True)\n",
        "\n",
        "# Renaming labels\n",
        "_renaming_class_label(df)"
      ],
      "metadata": {
        "id": "gxF7MdeEXI_H"
      },
      "execution_count": null,
      "outputs": []
    },
    {
      "cell_type": "code",
      "source": [
        "# Save to csv\n",
        "df.to_csv(file_name, index=False)"
      ],
      "metadata": {
        "id": "mFSoH3PJXQhu"
      },
      "execution_count": null,
      "outputs": []
    },
    {
      "cell_type": "markdown",
      "source": [
        "Combine all of the datasets"
      ],
      "metadata": {
        "id": "xK_ZJ3ZeGK55"
      }
    },
    {
      "cell_type": "code",
      "source": [
        "DIR_PATH = \"MachineLearningCVE\"\n",
        "\n",
        "FILE_NAMES = [\"Monday-WorkingHours.pcap_ISCX.csv\",\n",
        "              \"Tuesday-WorkingHours.pcap_ISCX.csv\",\n",
        "              \"Wednesday-workingHours.pcap_ISCX.csv\",\n",
        "              \"Thursday-WorkingHours-Morning-WebAttacks.pcap_ISCX.csv\",\n",
        "              \"Thursday-WorkingHours-Afternoon-Infilteration.pcap_ISCX.csv\",\n",
        "              \"Friday-WorkingHours-Morning.pcap_ISCX.csv\",\n",
        "              \"Friday-WorkingHours-Afternoon-PortScan.pcap_ISCX.csv\",\n",
        "              \"Friday-WorkingHours-Afternoon-DDos.pcap_ISCX.csv\"]"
      ],
      "metadata": {
        "id": "VmtnPGVsXbrR"
      },
      "execution_count": null,
      "outputs": []
    },
    {
      "cell_type": "code",
      "source": [
        "df = [pd.read_csv(os.path.join(DIR_PATH, f), skipinitialspace=True) for f in FILE_NAMES]\n",
        "df = pd.concat(df, ignore_index=True)"
      ],
      "metadata": {
        "id": "7JbKlOaAXer-"
      },
      "execution_count": null,
      "outputs": []
    },
    {
      "cell_type": "code",
      "source": [
        "df.Label.value_counts()"
      ],
      "metadata": {
        "colab": {
          "base_uri": "https://localhost:8080/"
        },
        "id": "LBlRbdBDXhfK",
        "outputId": "61c34300-3db0-40d4-db09-5fb00b7757a1"
      },
      "execution_count": null,
      "outputs": [
        {
          "output_type": "execute_result",
          "data": {
            "text/plain": [
              "BENIGN                      2273097\n",
              "DoS Hulk                     231073\n",
              "PortScan                     158930\n",
              "DDoS                         128027\n",
              "DoS GoldenEye                 10293\n",
              "FTP-Patator                    7938\n",
              "SSH-Patator                    5897\n",
              "DoS slowloris                  5796\n",
              "DoS Slowhttptest               5499\n",
              "Bot                            1966\n",
              "Web Attack-Brute Force         1507\n",
              "Web Attack-XSS                  652\n",
              "Infiltration                     36\n",
              "Web Attack-Sql Injection         21\n",
              "Heartbleed                       11\n",
              "Name: Label, dtype: int64"
            ]
          },
          "metadata": {},
          "execution_count": 10
        }
      ]
    },
    {
      "cell_type": "code",
      "source": [
        "df.to_csv(os.path.join(DIR_PATH, \"MachineLearningCVE.csv\"), index=False)"
      ],
      "metadata": {
        "id": "z1Vr7CJvXtDI"
      },
      "execution_count": null,
      "outputs": []
    },
    {
      "cell_type": "markdown",
      "source": [
        "Copy to Google Drive"
      ],
      "metadata": {
        "id": "KmltaIhZGlwo"
      }
    },
    {
      "cell_type": "code",
      "source": [
        "!cp -r \"MachineLearningCVE/\" \"/content/drive/My Drive/CICIDS2017/\"\n",
        "# Now the dataset is saved to your Google Drive at CICIDS2017 folder"
      ],
      "metadata": {
        "id": "Wy98YIs0X4J3"
      },
      "execution_count": null,
      "outputs": []
    },
    {
      "cell_type": "markdown",
      "source": [
        "Data Loading & Preprocessing:"
      ],
      "metadata": {
        "id": "74bCIXQORjMB"
      }
    },
    {
      "cell_type": "code",
      "execution_count": null,
      "metadata": {
        "id": "a6HBHR_YRdW3",
        "colab": {
          "base_uri": "https://localhost:8080/"
        },
        "outputId": "2c333e7f-bccf-4d31-f371-e26e94940992"
      },
      "outputs": [
        {
          "output_type": "stream",
          "name": "stdout",
          "text": [
            "   Destination Port  Flow Duration  Total Fwd Packets  Total Backward Packets  \\\n",
            "0             49188              4                  2                       0   \n",
            "1             49188              1                  2                       0   \n",
            "2             49188              1                  2                       0   \n",
            "\n",
            "   Total Length of Fwd Packets  Total Length of Bwd Packets  \\\n",
            "0                           12                            0   \n",
            "1                           12                            0   \n",
            "2                           12                            0   \n",
            "\n",
            "   Fwd Packet Length Max  Fwd Packet Length Min  Fwd Packet Length Mean  \\\n",
            "0                      6                      6                     6.0   \n",
            "1                      6                      6                     6.0   \n",
            "2                      6                      6                     6.0   \n",
            "\n",
            "   Fwd Packet Length Std  ...  min_seg_size_forward  Active Mean  Active Std  \\\n",
            "0                    0.0  ...                    20          0.0         0.0   \n",
            "1                    0.0  ...                    20          0.0         0.0   \n",
            "2                    0.0  ...                    20          0.0         0.0   \n",
            "\n",
            "   Active Max  Active Min  Idle Mean  Idle Std  Idle Max  Idle Min   Label  \n",
            "0           0           0        0.0       0.0         0         0  BENIGN  \n",
            "1           0           0        0.0       0.0         0         0  BENIGN  \n",
            "2           0           0        0.0       0.0         0         0  BENIGN  \n",
            "\n",
            "[3 rows x 79 columns]\n"
          ]
        }
      ],
      "source": [
        "import pandas as pd\n",
        "from sklearn.preprocessing import StandardScaler, LabelEncoder\n",
        "from sklearn.model_selection import train_test_split\n",
        "import numpy as np\n",
        "\n",
        "# pandas: A library for data manipulation and analysis. It provides data structures like DataFrame for handling and analyzing structured data.\n",
        "# StandardScaler: A preprocessing utility from scikit-learn that standardizes features by removing the mean and scaling to unit variance.\n",
        "# LabelEncoder: A utility to encode target labels with value between 0 and n_classes-1.\n",
        "# train_test_split: A utility function to split datasets into training and testing subsets.\n",
        "\n",
        "\n",
        "# Load the dataset\n",
        "data = pd.read_csv('/content/drive/My Drive/CICIDS2017/MachineLearningCVE/MachineLearningCVE.csv')\n",
        "#This line reads a CSV file into a DataFrame. Replace '/content/drive/My Drive/CICIDS2017/MachineLearningCVE/MachineLearningCVE.csv' with the path to your dataset.\n",
        "\n",
        "print(data.head(3))\n",
        "\n",
        "# Separate features and labels\n",
        "X = data.iloc[:, :-1]\n",
        "y = data.iloc[:, -1]\n",
        "#  X contains the features. data.iloc[:, :-1] selects all columns except the last one.\n",
        "#  y contains the labels (or target values). data.iloc[:, -1] selects only the last column.\n",
        "\n",
        "\n",
        "# Replace 'inf' and '-inf' with 'NaN'\n",
        "X.replace([np.inf, -np.inf], np.nan, inplace=True)\n",
        "\n",
        "# Check if there are any NaN values in the dataset\n",
        "if X.isnull().sum().sum() > 0:\n",
        "    # Handle NaN values. For instance, fill NaN with the mean of the column:\n",
        "    X.fillna(X.mean(), inplace=True)\n",
        "\n",
        "# Normalize the features\n",
        "scaler = StandardScaler()\n",
        "X = scaler.fit_transform(X)\n",
        "#  Standardization of datasets is a common requirement for many machine learning algorithms.\n",
        "#  They might behave poorly if the individual features do not look like standard normally distributed data (i.e., Gaussian with 0 mean and unit variance).\n",
        "#  scaler.fit_transform(X) computes the mean and standard deviation of each feature in X and then scales them.\n",
        "\n",
        "\n",
        "# Encode the labels\n",
        "encoder = LabelEncoder()\n",
        "y = encoder.fit_transform(y)\n",
        "#  Label encoding is the process of converting categorical data variables so they can be provided to machine learning algorithms to improve predictions. LabelEncoder converts each class under the specified feature to a numerical value.\n",
        "#  This step assumes that the labels are categorical. If they're already numerical, this step can be skipped.\n",
        "\n",
        "\n",
        "# Split the data into training and testing sets\n",
        "X_train, X_test, y_train, y_test = train_test_split(X, y, test_size=0.2, random_state=42)\n",
        "#  It's common practice to split the dataset into a training set and a test set.\n",
        "#  The model is trained on the training set and evaluated on the test set.\n",
        "#  test_size=0.2 means that 20% of the data will be used as the test set, and the remaining 80% will be the training set.\n",
        "#  random_state=42 is just a seed for the random number generator used in the function. This ensures reproducibility.\n",
        "\n",
        "\n",
        "#By the end of this preprocessing phase, you'll have:\n",
        "\n",
        "#    X_train and y_train: Features and labels for training.\n",
        "#    X_test and y_test: Features and labels for testing.\n",
        "\n",
        "#This data is now ready to be used to train a machine learning model.\n"
      ]
    },
    {
      "cell_type": "markdown",
      "source": [
        "Setting up PyTorch Datasets and DataLoaders:"
      ],
      "metadata": {
        "id": "YgDI73qbRotj"
      }
    },
    {
      "cell_type": "code",
      "source": [
        "import torch\n",
        "from torch.utils.data import Dataset, DataLoader\n",
        "#  torch: This is the main PyTorch library.\n",
        "#  Dataset: An abstract class representing a dataset in PyTorch. You can create custom datasets by subclassing Dataset and implementing the __len__ and __getitem__ methods.\n",
        "#  DataLoader: It wraps a dataset and provides minibatches of data. It also offers other utilities like shuffling and parallel data loading.\n",
        "\n",
        "\n",
        "# This custom dataset class, CICIDSDataset, inherits from PyTorch's Dataset class.\n",
        "class CICIDSDataset(Dataset):\n",
        "    def __init__(self, features, labels):\n",
        "        self.features = torch.tensor(features, dtype=torch.float32)\n",
        "        self.labels = torch.tensor(labels, dtype=torch.int64)\n",
        "\n",
        "    def __len__(self):\n",
        "        return len(self.labels)\n",
        "\n",
        "    def __getitem__(self, idx):\n",
        "        return self.features[idx], self.labels[idx]\n",
        "#   __init__: The constructor takes in features and labels as arguments and converts them to PyTorch tensors.\n",
        "#   The data type torch.float32 is typically used for input features, while torch.int64 is used for labels in classification tasks.\n",
        "#   __len__: This method returns the number of samples in the dataset. This is used by the DataLoader to determine the number of batches.\n",
        "#   __getitem__: This method retrieves the sample (feature, label pair) at the given index idx. It's used by DataLoader to fetch data during iteration.\n",
        "\n",
        "\n",
        "# Create datasets\n",
        "train_dataset = CICIDSDataset(X_train, y_train)\n",
        "test_dataset = CICIDSDataset(X_test, y_test)\n",
        "# Here, you're creating instances of the custom dataset for both training and testing data.\n",
        "\n",
        "# Create dataloaders\n",
        "train_loader = DataLoader(train_dataset, batch_size=64, shuffle=True)\n",
        "test_loader = DataLoader(test_dataset, batch_size=64, shuffle=False)\n",
        "#  DataLoader is a generator that provides batches of data. The above code wraps the custom datasets in DataLoaders.\n",
        "#  batch_size=64: This means that the DataLoader will provide data in batches of 64 samples at a time.\n",
        "#  This is a typical batch size, but it can be adjusted based on the memory capacity of your hardware and the specific needs of your model.\n",
        "#  shuffle=True: For the training data loader, shuffling is enabled to ensure that the model gets different data orderings across different epochs, which aids in better generalization during training.\n",
        "#  shuffle=False: For the test data loader, shuffling is typically not necessary since we're just evaluating the model's performance.\n",
        "\n",
        "\n",
        "#With these DataLoaders set up, during training or evaluation, you can now iterate over them to get batches of data.\n",
        "#This makes the data feeding process during training organized and efficient, especially for large datasets that don't fit in memory."
      ],
      "metadata": {
        "id": "Wj6zftgPReWK"
      },
      "execution_count": null,
      "outputs": []
    },
    {
      "cell_type": "markdown",
      "source": [
        "Define the Neural Network Model:"
      ],
      "metadata": {
        "id": "5Q4yG7FqRv8B"
      }
    },
    {
      "cell_type": "code",
      "source": [
        "import torch.nn as nn\n",
        "# torch.nn: This is PyTorch's neural networks library.\n",
        "# It contains pre-defined layers, loss functions, and optimization methods that are essential for building neural network models\n",
        "\n",
        "\n",
        "class SimpleNN(nn.Module):\n",
        "#class SimpleNN(nn.Module): We're defining a new class SimpleNN that inherits from nn.Module.\n",
        "#Any neural network model in PyTorch should subclass nn.Module.\n",
        "\n",
        "    def __init__(self, input_dim, output_dim):\n",
        "#def __init__(self, input_dim, output_dim): The constructor of the class. It takes two arguments:\n",
        "#input_dim: The number of input features. This would be the number of columns in your feature matrix X.\n",
        "#output_dim: The number of output classes or labels.\n",
        "\n",
        "        super(SimpleNN, self).__init__()\n",
        "#super(SimpleNN, self).__init__(): This line initializes the base nn.Module class. It's a necessary boilerplate when you're subclassing nn.Module.\n",
        "\n",
        "        self.layer = nn.Sequential(\n",
        "            nn.Linear(input_dim, 128),\n",
        "            nn.ReLU(),\n",
        "            nn.Linear(128, 64),\n",
        "            nn.ReLU(),\n",
        "            nn.Linear(64, output_dim)\n",
        "        )\n",
        "#self.layer = nn.Sequential(...): This defines a sequential container of layers.\n",
        "#Layers will be added to it in the order they are passed in the constructor.\n",
        "#When the model is called to produce an output, data will be passed through these layers in sequence.\n",
        "#nn.Linear(input_dim, 128): This is a fully connected layer (also known as a dense layer) that takes input_dim inputs and returns 128 outputs.\n",
        "#The layer contains weights and biases that will be learned during training.\n",
        "#nn.ReLU(): This is an activation function known as Rectified Linear Unit (ReLU).\n",
        "#It introduces non-linearity to the model, which allows the neural network to learn more complex functions.\n",
        "#The next layers (nn.Linear(128, 64) and nn.Linear(64, output_dim)) are additional fully connected layers that progressively reduce the dimensionality of the data.\n",
        "#The final layer outputs output_dim values, which corresponds to the logits (or raw scores) for each class in the classification task.\n",
        "\n",
        "\n",
        "    def forward(self, x):\n",
        "        return self.layer(x)\n",
        "#def forward(self, x): The forward method defines the forward pass of the neural network. It takes in an input tensor x and returns the output of the neural network.\n",
        "#return self.layer(x): This line passes the input x through the sequential container self.layer, which contains our neural network's architecture. The output is then returned.\n",
        "\n",
        "\n",
        "model = SimpleNN(X_train.shape[1], len(set(y)))\n",
        "# Here, we're creating an instance of the SimpleNN class.\n",
        "# X_train.shape[1]: This provides the number of features (or columns) in the training data, which corresponds to the input dimension of the neural network.\n",
        "# len(set(y)): This computes the number of unique labels in the dataset, which corresponds to the output dimension of the neural network.\n",
        "\n",
        "#With this model instance, you can now proceed to train the neural network on your data, evaluate its performance, and use it for predictions."
      ],
      "metadata": {
        "id": "cLytJVjPRxQ4"
      },
      "execution_count": null,
      "outputs": []
    },
    {
      "cell_type": "markdown",
      "source": [
        "Training:"
      ],
      "metadata": {
        "id": "_TDxaQA7RzyT"
      }
    },
    {
      "cell_type": "code",
      "source": [
        "criterion = nn.CrossEntropyLoss()\n",
        "#Loss Function (criterion):\n",
        "#nn.CrossEntropyLoss(): This is the cross-entropy loss function, which is commonly used for classification tasks.\n",
        "#It measures the difference between the predicted probabilities (from the neural network) and the actual labels.\n",
        "#For a multi-class classification, it expects raw scores (also known as logits) as the model's output and computes the softmax internally.\n",
        "\n",
        "optimizer = torch.optim.Adam(model.parameters(), lr=0.001)\n",
        "#Optimizer:\n",
        "#torch.optim.Adam(...): The Adam optimizer is a popular optimization algorithm used in deep learning.\n",
        "#It combines the best properties of the AdaGrad and RMSProp algorithms.\n",
        "#model.parameters(): This returns an iterator over the model's parameters (weights and biases).\n",
        "#The optimizer uses this to know which parameters it should update.\n",
        "#lr=0.001: This is the learning rate, a hyperparameter that determines the step size the optimizer should take to minimize the loss.\n",
        "#A smaller learning rate might converge slowly, while a larger one might overshoot the minimum.\n",
        "\n",
        "\n",
        "# Training loop\n",
        "num_epochs = 10\n",
        "#num_epochs = 10: This sets the number of times the training loop will iterate over the entire dataset.\n",
        "#Each iteration over the full dataset is called an epoch.\n",
        "\n",
        "for epoch in range(num_epochs):\n",
        "#Outer Loop (for epoch in range(num_epochs)):\n",
        "#This loop represents each pass over the entire dataset.\n",
        "\n",
        "    for i, (features, labels) in enumerate(train_loader):\n",
        "#Inner Loop (for i, (features, labels) in enumerate(train_loader)):\n",
        "#This loop iterates over batches of data from the train_loader.\n",
        "#For each iteration, it provides a batch of features (input data) and labels (true class labels).\n",
        "\n",
        "        outputs = model(features)\n",
        "        loss = criterion(outputs, labels)\n",
        "#Forward Pass:\n",
        "#outputs = model(features): This line passes the batch of features through the model to get the predicted outputs.\n",
        "#loss = criterion(outputs, labels): Here, the loss function computes the difference between the predicted outputs and the true labels.\n",
        "\n",
        "        optimizer.zero_grad()\n",
        "        loss.backward()\n",
        "        optimizer.step()\n",
        "#Backward Pass & Optimization:\n",
        "#optimizer.zero_grad(): Before computing the gradients, we need to zero out any existing gradients to avoid accumulation from previous iterations.\n",
        "#loss.backward(): This computes the gradient of the loss concerning the model's parameters (derivatives). Essentially, it figures out how much each parameter contributed to the error.\n",
        "#optimizer.step(): This line updates the model's parameters using the gradients computed in the previous step. It attempts to minimize the loss.\n",
        "\n",
        "\n",
        "    print(f\"Epoch [{epoch+1}/{num_epochs}], Loss: {loss.item():.4f}\")\n",
        "#Logging:\n",
        "#print(f\"Epoch [{epoch+1}/{num_epochs}], Loss: {loss.item():.4f}\"): After each epoch, this line prints the epoch number and the loss for the last batch in that epoch.\n",
        "#The .item() method is used to get the value of the loss as a Python number.\n",
        "\n",
        "\n",
        "#This training process – consisting of forwarding passes to make predictions,\n",
        "#computing the loss, and backward passes to update the model's weights – continues until all epochs are completed.\n",
        "#The goal is for the model to have adjusted its weights and biases to minimize the loss, and thereby improve its predictions."
      ],
      "metadata": {
        "id": "dwZPjPoeR52u",
        "colab": {
          "base_uri": "https://localhost:8080/"
        },
        "outputId": "5059d628-ed39-40a6-98be-34356811b4c9"
      },
      "execution_count": null,
      "outputs": [
        {
          "output_type": "stream",
          "name": "stdout",
          "text": [
            "Epoch [1/10], Loss: 0.0357\n",
            "Epoch [2/10], Loss: 0.0003\n",
            "Epoch [3/10], Loss: 0.0234\n",
            "Epoch [4/10], Loss: 0.0090\n",
            "Epoch [5/10], Loss: 0.0124\n",
            "Epoch [6/10], Loss: 0.0000\n",
            "Epoch [7/10], Loss: 0.0002\n",
            "Epoch [8/10], Loss: 0.0001\n",
            "Epoch [9/10], Loss: 0.1621\n",
            "Epoch [10/10], Loss: 0.0021\n"
          ]
        }
      ]
    },
    {
      "cell_type": "markdown",
      "source": [
        "The Neural Net we just built is a Feedforward Neural Network (FNN), also commonly referred to as a Multilayer Perceptron (MLP) when it has one or more hidden layers. The depth and width (number of neurons in hidden layers) of such networks can be adjusted based on the complexity of the data and the task at hand.\n",
        "\n",
        "Feedforward Architecture: The data flows in one direction, from the input layer, through one or more hidden layers, and finally to the output layer. There are no cycles or loops in the network, as you'd find in Recurrent Neural Networks (RNNs).\n",
        "\n",
        "Fully Connected Layers: Each neuron in a layer is connected to every neuron in the previous and subsequent layers. This is evident from the use of the nn.Linear module in the code.\n",
        "\n",
        "Activation Functions: The ReLU (Rectified Linear Unit) activation function is applied after the linear transformations. It introduces non-linearity into the model, enabling the network to learn more complex patterns.\n",
        "\n",
        "Multiclass Classification: The final layer of the network has a number of neurons equal to the number of classes in the dataset. The network will output raw scores (logits) for each class, and the nn.CrossEntropyLoss (used in the training code) implicitly applies a softmax function to these logits to produce class probabilities."
      ],
      "metadata": {
        "id": "HVzPqtFVO1d_"
      }
    },
    {
      "cell_type": "markdown",
      "source": [
        "Evaluation:"
      ],
      "metadata": {
        "id": "hWWk2SYASBGK"
      }
    },
    {
      "cell_type": "code",
      "source": [
        "model.eval()\n",
        "# model.eval() switches the model to \"evaluation mode\".\n",
        "# This is important because some layers in the neural network,\n",
        "# like dropout or batch normalization, behave differently during training and evaluation.\n",
        "# For example, during training, dropout randomly zeroes out some activations, but during evaluation,\n",
        "# it doesn't modify the activations at all.\n",
        "\n",
        "\n",
        "correct = 0\n",
        "total = 0\n",
        "\n",
        "# 'correct' will keep track of the number of predictions that the model got right.\n",
        "# 'total' will keep track of the total number of predictions made.\n",
        "\n",
        "with torch.no_grad():\n",
        "\n",
        "# torch.no_grad() is a context manager that disables gradient computation.\n",
        "# During evaluation, we don't need gradients because we aren't updating the model.\n",
        "# Disabling gradient computation reduces memory consumption and speeds up the evaluation.\n",
        "\n",
        "    for features, labels in test_loader:\n",
        "        outputs = model(features)\n",
        "        _, predicted = torch.max(outputs, 1)\n",
        "        total += labels.size(0)\n",
        "        correct += (predicted == labels).sum().item()\n",
        "\n",
        "# The DataLoader (test_loader) provides batches of test data.\n",
        "# For each batch, it gives the features (input data) and the corresponding labels (true class labels).\n",
        "# outputs contains the raw prediction scores for each class. For example, if there are ten classes, each row in outputs will contain ten scores.\n",
        "# torch.max(outputs, 1) returns the maximum score and its index for each row along dimension 1 (columns).\n",
        "# The maximum score's index corresponds to the predicted class. The _ is a placeholder for the actual scores, which we don't need in this context.\n",
        "\n",
        "# labels.size(0) gives the number of samples in the current batch, which is added to the total.\n",
        "# (predicted == labels) creates a boolean tensor where each element is True if the prediction is correct and False otherwise.\n",
        "# By summing over this tensor, we get the number of correct predictions in the current batch. .item() extracts the number from the resulting tensor, which is then added to the correct counter.\n",
        "\n",
        "\n",
        "print(f\"Accuracy: {100 * correct / total:.2f}%\")\n",
        "\n",
        "# The accuracy is computed as the ratio of correct predictions to the total number of predictions, multiplied by 100 to get a percentage.\n",
        "# This evaluation process provides an estimate of the model's performance on unseen data (the test set) by calculating the accuracy.\n",
        "# Depending on the problem and dataset, you might also want to compute other metrics such as precision, recall, F1-score, or AUC-ROC."
      ],
      "metadata": {
        "id": "nL_vm-olR_tJ",
        "colab": {
          "base_uri": "https://localhost:8080/"
        },
        "outputId": "bb9e66cb-e8ce-4a8d-c7af-2b92b1666ee1"
      },
      "execution_count": null,
      "outputs": [
        {
          "output_type": "stream",
          "name": "stdout",
          "text": [
            "Accuracy: 99.37%\n"
          ]
        }
      ]
    },
    {
      "cell_type": "markdown",
      "source": [
        "Generate predictions for the entire test set:"
      ],
      "metadata": {
        "id": "lIQujCpihCX_"
      }
    },
    {
      "cell_type": "code",
      "source": [
        "import matplotlib.pyplot as plt\n",
        "import seaborn as sns\n",
        "from sklearn.metrics import confusion_matrix, classification_report\n",
        "\n",
        "all_preds = []\n",
        "all_labels = []\n",
        "\n",
        "model.eval()\n",
        "with torch.no_grad():\n",
        "    for features, labels in test_loader:\n",
        "        outputs = model(features)\n",
        "        _, predicted = torch.max(outputs, 1)\n",
        "        all_preds.extend(predicted.cpu().numpy())\n",
        "        all_labels.extend(labels.cpu().numpy())\n"
      ],
      "metadata": {
        "id": "sfZu3STMgqp7"
      },
      "execution_count": null,
      "outputs": []
    },
    {
      "cell_type": "markdown",
      "source": [
        "Plot the Confusion Matrix:"
      ],
      "metadata": {
        "id": "3fWq8xvlhPei"
      }
    },
    {
      "cell_type": "code",
      "source": [
        "def plot_confusion_matrix(y_true, y_pred, classes):\n",
        "    cm = confusion_matrix(y_true, y_pred)\n",
        "    df_cm = pd.DataFrame(cm, index=classes, columns=classes)\n",
        "    plt.figure(figsize=(10, 7))\n",
        "    sns.heatmap(df_cm, annot=True, fmt='g', cmap='Blues')\n",
        "    plt.title('Confusion Matrix')\n",
        "    plt.xlabel('Predicted')\n",
        "    plt.ylabel('Actual')\n",
        "    plt.show()\n",
        "\n",
        "classes = encoder.classes_  # Assuming 'encoder' is the LabelEncoder used earlier\n",
        "plot_confusion_matrix(all_labels, all_preds, classes)\n"
      ],
      "metadata": {
        "colab": {
          "base_uri": "https://localhost:8080/",
          "height": 797
        },
        "id": "RTv87AJbgvZQ",
        "outputId": "dc8f0292-73f5-4760-c1fa-1f99cc0671a3"
      },
      "execution_count": null,
      "outputs": [
        {
          "output_type": "display_data",
          "data": {
            "text/plain": [
              "<Figure size 1000x700 with 2 Axes>"
            ],
            "image/png": "[encoded data removed]"
          },
          "metadata": {}
        }
      ]
    },
    {
      "cell_type": "markdown",
      "source": [
        "Display Class-wise Accuracy:"
      ],
      "metadata": {
        "id": "6ZAFJ--4hTlh"
      }
    },
    {
      "cell_type": "code",
      "source": [
        "def display_classwise_accuracy(y_true, y_pred, classes):\n",
        "    report = classification_report(y_true, y_pred, target_names=classes, output_dict=True, zero_division=1)\n",
        "    for class_name, metrics in report.items():\n",
        "        if class_name in classes:\n",
        "            print(f\"{class_name}: {metrics['precision'] * 100:.2f}%\")\n",
        "\n",
        "display_classwise_accuracy(all_labels, all_preds, classes)"
      ],
      "metadata": {
        "colab": {
          "base_uri": "https://localhost:8080/"
        },
        "id": "lK_b0eOAiGod",
        "outputId": "c02b7ef7-dd0b-4891-9383-7b96847b8eb7"
      },
      "execution_count": null,
      "outputs": [
        {
          "output_type": "stream",
          "name": "stdout",
          "text": [
            "BENIGN: 99.70%\n",
            "Bot: 98.56%\n",
            "DDoS: 99.90%\n",
            "DoS GoldenEye: 96.09%\n",
            "DoS Hulk: 96.56%\n",
            "DoS Slowhttptest: 89.74%\n",
            "DoS slowloris: 97.07%\n",
            "FTP-Patator: 99.25%\n",
            "Heartbleed: 100.00%\n",
            "Infiltration: 50.00%\n",
            "PortScan: 99.31%\n",
            "SSH-Patator: 94.61%\n",
            "Web Attack-Brute Force: 94.44%\n",
            "Web Attack-Sql Injection: 100.00%\n",
            "Web Attack-XSS: 100.00%\n"
          ]
        }
      ]
    },
    {
      "cell_type": "markdown",
      "source": [
        " Visualizing the results can provide a clearer understanding of the model's performance and where it might be going wrong. Here are a few commonly used visualizations for classification tasks:\n",
        "\n",
        "*   Confusion Matrix: Shows the actual versus predicted classifications.\n",
        "\n",
        "*   Class-wise Accuracy: Helps understand which classes the model performs well on and which it doesn't.\n",
        "\n",
        "*   ROC Curve and AUC: For binary classification, this visualizes the performance of the classifier.\n",
        "\n"
      ],
      "metadata": {
        "id": "o-uy_EJ3wc-K"
      }
    },
    {
      "cell_type": "markdown",
      "source": [
        "Executing these visualizations will give you insights into how your model performs across different classes. If you see certain classes with lower accuracy, it might indicate that you need more training data for those classes or that there are hard-to-classify samples present.\n",
        "\n",
        "If you're dealing with a binary classification task, the ROC Curve and AUC are also valuable visualizations to consider."
      ],
      "metadata": {
        "id": "X-jOyJTYwFEM"
      }
    }
  ]
}